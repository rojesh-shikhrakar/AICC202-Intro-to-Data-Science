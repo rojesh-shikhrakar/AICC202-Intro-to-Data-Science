{
 "cells": [
  {
   "cell_type": "markdown",
   "metadata": {
    "id": "UyhNOM-MjLsF"
   },
   "source": [
    "# Napoleon’s March to Moscow\n",
    "\n",
    "On June 24, 1812, the Grande Armée, led by French Emperor Napoleon Bonaparte, crossed the Neman River, invading Russia from present-day Poland. The result was a disaster for the French. The Russian army refused to engage with Napoleon's Grande Armée of more than 500,000 European troops. Within six weeks, Napoleon lost half of the men because of the extreme weather conditions, disease and hunger, winning just the Battle of Smolensk.\n",
    "\n",
    "![Source: Wiki French Invasion of Russia](https://en.wikipedia.org/wiki/French_invasion_of_Russia)\n",
    "\n",
    "This was beautifully depicted on the graph below in the book Grammar of Graphics by Leland Wilkinson, 1999.\n",
    "\n",
    "![Napolean's MArch to Moscow](https://datavizblog.files.wordpress.com/2013/05/map-full-size1.png?w=768)"
   ]
  },
  {
   "cell_type": "code",
   "execution_count": null,
   "metadata": {
    "colab": {
     "base_uri": "https://localhost:8080/"
    },
    "id": "U9QnP974ilLz",
    "outputId": "be04b634-ce1a-4d15-acd0-d5a560671d5f"
   },
   "outputs": [],
   "source": [
    "!pip install altair"
   ]
  },
  {
   "cell_type": "code",
   "execution_count": 1,
   "metadata": {
    "id": "hTVSpFTZfOjD"
   },
   "outputs": [],
   "source": [
    "import pandas as pd\n",
    "import altair as alt"
   ]
  },
  {
   "cell_type": "code",
   "execution_count": 2,
   "metadata": {
    "id": "8ZTSj28Gile2"
   },
   "outputs": [
    {
     "data": {
      "text/html": [
       "<div>\n",
       "<style scoped>\n",
       "    .dataframe tbody tr th:only-of-type {\n",
       "        vertical-align: middle;\n",
       "    }\n",
       "\n",
       "    .dataframe tbody tr th {\n",
       "        vertical-align: top;\n",
       "    }\n",
       "\n",
       "    .dataframe thead th {\n",
       "        text-align: right;\n",
       "    }\n",
       "</style>\n",
       "<table border=\"1\" class=\"dataframe\">\n",
       "  <thead>\n",
       "    <tr style=\"text-align: right;\">\n",
       "      <th></th>\n",
       "      <th>long</th>\n",
       "      <th>temp</th>\n",
       "      <th>days</th>\n",
       "      <th>date</th>\n",
       "    </tr>\n",
       "  </thead>\n",
       "  <tbody>\n",
       "    <tr>\n",
       "      <th>0</th>\n",
       "      <td>37.6</td>\n",
       "      <td>0</td>\n",
       "      <td>6</td>\n",
       "      <td>Oct18</td>\n",
       "    </tr>\n",
       "    <tr>\n",
       "      <th>1</th>\n",
       "      <td>36.0</td>\n",
       "      <td>0</td>\n",
       "      <td>6</td>\n",
       "      <td>Oct24</td>\n",
       "    </tr>\n",
       "    <tr>\n",
       "      <th>2</th>\n",
       "      <td>33.2</td>\n",
       "      <td>-9</td>\n",
       "      <td>16</td>\n",
       "      <td>Nov09</td>\n",
       "    </tr>\n",
       "    <tr>\n",
       "      <th>3</th>\n",
       "      <td>32.0</td>\n",
       "      <td>-21</td>\n",
       "      <td>5</td>\n",
       "      <td>Nov14</td>\n",
       "    </tr>\n",
       "    <tr>\n",
       "      <th>4</th>\n",
       "      <td>29.2</td>\n",
       "      <td>-11</td>\n",
       "      <td>10</td>\n",
       "      <td>NaN</td>\n",
       "    </tr>\n",
       "  </tbody>\n",
       "</table>\n",
       "</div>"
      ],
      "text/plain": [
       "   long  temp  days   date\n",
       "0  37.6     0     6  Oct18\n",
       "1  36.0     0     6  Oct24\n",
       "2  33.2    -9    16  Nov09\n",
       "3  32.0   -21     5  Nov14\n",
       "4  29.2   -11    10    NaN"
      ]
     },
     "execution_count": 2,
     "metadata": {},
     "output_type": "execute_result"
    }
   ],
   "source": [
    "cities = pd.read_csv(\"../data/Minard.cities.csv\")\n",
    "temperature = pd.read_csv(\"../data/Minard.temp.csv\")\n",
    "troops = pd.read_csv(\"../data/Minard.troops.csv\")\n",
    "\n",
    "temperature.head()"
   ]
  },
  {
   "cell_type": "code",
   "execution_count": 3,
   "metadata": {
    "id": "03XIr6pqlbR6"
   },
   "outputs": [
    {
     "data": {
      "text/html": [
       "<div>\n",
       "<style scoped>\n",
       "    .dataframe tbody tr th:only-of-type {\n",
       "        vertical-align: middle;\n",
       "    }\n",
       "\n",
       "    .dataframe tbody tr th {\n",
       "        vertical-align: top;\n",
       "    }\n",
       "\n",
       "    .dataframe thead th {\n",
       "        text-align: right;\n",
       "    }\n",
       "</style>\n",
       "<table border=\"1\" class=\"dataframe\">\n",
       "  <thead>\n",
       "    <tr style=\"text-align: right;\">\n",
       "      <th></th>\n",
       "      <th>long</th>\n",
       "      <th>temp</th>\n",
       "      <th>days</th>\n",
       "      <th>date</th>\n",
       "      <th>label</th>\n",
       "    </tr>\n",
       "  </thead>\n",
       "  <tbody>\n",
       "    <tr>\n",
       "      <th>0</th>\n",
       "      <td>37.6</td>\n",
       "      <td>0</td>\n",
       "      <td>6</td>\n",
       "      <td>Oct18</td>\n",
       "      <td>0° Oct18</td>\n",
       "    </tr>\n",
       "    <tr>\n",
       "      <th>1</th>\n",
       "      <td>36.0</td>\n",
       "      <td>0</td>\n",
       "      <td>6</td>\n",
       "      <td>Oct24</td>\n",
       "      <td>0° Oct24</td>\n",
       "    </tr>\n",
       "    <tr>\n",
       "      <th>2</th>\n",
       "      <td>33.2</td>\n",
       "      <td>-9</td>\n",
       "      <td>16</td>\n",
       "      <td>Nov09</td>\n",
       "      <td>-9° Nov09</td>\n",
       "    </tr>\n",
       "    <tr>\n",
       "      <th>3</th>\n",
       "      <td>32.0</td>\n",
       "      <td>-21</td>\n",
       "      <td>5</td>\n",
       "      <td>Nov14</td>\n",
       "      <td>-21° Nov14</td>\n",
       "    </tr>\n",
       "    <tr>\n",
       "      <th>4</th>\n",
       "      <td>29.2</td>\n",
       "      <td>-11</td>\n",
       "      <td>10</td>\n",
       "      <td>NaN</td>\n",
       "      <td>NaN</td>\n",
       "    </tr>\n",
       "  </tbody>\n",
       "</table>\n",
       "</div>"
      ],
      "text/plain": [
       "   long  temp  days   date       label\n",
       "0  37.6     0     6  Oct18    0° Oct18\n",
       "1  36.0     0     6  Oct24    0° Oct24\n",
       "2  33.2    -9    16  Nov09   -9° Nov09\n",
       "3  32.0   -21     5  Nov14  -21° Nov14\n",
       "4  29.2   -11    10    NaN         NaN"
      ]
     },
     "execution_count": 3,
     "metadata": {},
     "output_type": "execute_result"
    }
   ],
   "source": [
    "temperature[\"label\"] = temperature[\"temp\"].apply(lambda x: str(x) + \"° \") + temperature[\"date\"]\n",
    "\n",
    "temperature.head()"
   ]
  },
  {
   "cell_type": "code",
   "execution_count": 4,
   "metadata": {
    "colab": {
     "base_uri": "https://localhost:8080/",
     "height": 376
    },
    "id": "TYkDO8G7i4IB",
    "outputId": "dc24c8ba-7b36-4acd-a821-5a9574943e4c"
   },
   "outputs": [
    {
     "data": {
      "text/html": [
       "\n",
       "<div id=\"altair-viz-b065a27efcd44cc4b1ca78b89ebbeba1\"></div>\n",
       "<script type=\"text/javascript\">\n",
       "  var VEGA_DEBUG = (typeof VEGA_DEBUG == \"undefined\") ? {} : VEGA_DEBUG;\n",
       "  (function(spec, embedOpt){\n",
       "    let outputDiv = document.currentScript.previousElementSibling;\n",
       "    if (outputDiv.id !== \"altair-viz-b065a27efcd44cc4b1ca78b89ebbeba1\") {\n",
       "      outputDiv = document.getElementById(\"altair-viz-b065a27efcd44cc4b1ca78b89ebbeba1\");\n",
       "    }\n",
       "    const paths = {\n",
       "      \"vega\": \"https://cdn.jsdelivr.net/npm//vega@5?noext\",\n",
       "      \"vega-lib\": \"https://cdn.jsdelivr.net/npm//vega-lib?noext\",\n",
       "      \"vega-lite\": \"https://cdn.jsdelivr.net/npm//vega-lite@4.17.0?noext\",\n",
       "      \"vega-embed\": \"https://cdn.jsdelivr.net/npm//vega-embed@6?noext\",\n",
       "    };\n",
       "\n",
       "    function maybeLoadScript(lib, version) {\n",
       "      var key = `${lib.replace(\"-\", \"\")}_version`;\n",
       "      return (VEGA_DEBUG[key] == version) ?\n",
       "        Promise.resolve(paths[lib]) :\n",
       "        new Promise(function(resolve, reject) {\n",
       "          var s = document.createElement('script');\n",
       "          document.getElementsByTagName(\"head\")[0].appendChild(s);\n",
       "          s.async = true;\n",
       "          s.onload = () => {\n",
       "            VEGA_DEBUG[key] = version;\n",
       "            return resolve(paths[lib]);\n",
       "          };\n",
       "          s.onerror = () => reject(`Error loading script: ${paths[lib]}`);\n",
       "          s.src = paths[lib];\n",
       "        });\n",
       "    }\n",
       "\n",
       "    function showError(err) {\n",
       "      outputDiv.innerHTML = `<div class=\"error\" style=\"color:red;\">${err}</div>`;\n",
       "      throw err;\n",
       "    }\n",
       "\n",
       "    function displayChart(vegaEmbed) {\n",
       "      vegaEmbed(outputDiv, spec, embedOpt)\n",
       "        .catch(err => showError(`Javascript Error: ${err.message}<br>This usually means there's a typo in your chart specification. See the javascript console for the full traceback.`));\n",
       "    }\n",
       "\n",
       "    if(typeof define === \"function\" && define.amd) {\n",
       "      requirejs.config({paths});\n",
       "      require([\"vega-embed\"], displayChart, err => showError(`Error loading script: ${err.message}`));\n",
       "    } else {\n",
       "      maybeLoadScript(\"vega\", \"5\")\n",
       "        .then(() => maybeLoadScript(\"vega-lite\", \"4.17.0\"))\n",
       "        .then(() => maybeLoadScript(\"vega-embed\", \"6\"))\n",
       "        .catch(showError)\n",
       "        .then(() => displayChart(vegaEmbed));\n",
       "    }\n",
       "  })({\"config\": {\"view\": {\"continuousWidth\": 400, \"continuousHeight\": 300}}, \"data\": {\"name\": \"data-56af38f370621560624276220716fba8\"}, \"mark\": \"trail\", \"encoding\": {\"color\": {\"field\": \"direction\", \"type\": \"nominal\"}, \"size\": {\"field\": \"survivors\", \"legend\": null, \"scale\": {\"range\": [1, 75]}, \"type\": \"quantitative\"}, \"x\": {\"field\": \"long\", \"type\": \"quantitative\"}, \"y\": {\"field\": \"lat\", \"type\": \"quantitative\"}}, \"$schema\": \"https://vega.github.io/schema/vega-lite/v4.17.0.json\", \"datasets\": {\"data-56af38f370621560624276220716fba8\": [{\"long\": 24.0, \"lat\": 54.9, \"survivors\": 340000, \"direction\": \"A\", \"group\": 1}, {\"long\": 24.5, \"lat\": 55.0, \"survivors\": 340000, \"direction\": \"A\", \"group\": 1}, {\"long\": 25.5, \"lat\": 54.5, \"survivors\": 340000, \"direction\": \"A\", \"group\": 1}, {\"long\": 26.0, \"lat\": 54.7, \"survivors\": 320000, \"direction\": \"A\", \"group\": 1}, {\"long\": 27.0, \"lat\": 54.8, \"survivors\": 300000, \"direction\": \"A\", \"group\": 1}, {\"long\": 28.0, \"lat\": 54.9, \"survivors\": 280000, \"direction\": \"A\", \"group\": 1}, {\"long\": 28.5, \"lat\": 55.0, \"survivors\": 240000, \"direction\": \"A\", \"group\": 1}, {\"long\": 29.0, \"lat\": 55.1, \"survivors\": 210000, \"direction\": \"A\", \"group\": 1}, {\"long\": 30.0, \"lat\": 55.2, \"survivors\": 180000, \"direction\": \"A\", \"group\": 1}, {\"long\": 30.3, \"lat\": 55.3, \"survivors\": 175000, \"direction\": \"A\", \"group\": 1}, {\"long\": 32.0, \"lat\": 54.8, \"survivors\": 145000, \"direction\": \"A\", \"group\": 1}, {\"long\": 33.2, \"lat\": 54.9, \"survivors\": 140000, \"direction\": \"A\", \"group\": 1}, {\"long\": 34.4, \"lat\": 55.5, \"survivors\": 127100, \"direction\": \"A\", \"group\": 1}, {\"long\": 35.5, \"lat\": 55.4, \"survivors\": 100000, \"direction\": \"A\", \"group\": 1}, {\"long\": 36.0, \"lat\": 55.5, \"survivors\": 100000, \"direction\": \"A\", \"group\": 1}, {\"long\": 37.6, \"lat\": 55.8, \"survivors\": 100000, \"direction\": \"A\", \"group\": 1}, {\"long\": 37.7, \"lat\": 55.7, \"survivors\": 100000, \"direction\": \"R\", \"group\": 1}, {\"long\": 37.5, \"lat\": 55.7, \"survivors\": 98000, \"direction\": \"R\", \"group\": 1}, {\"long\": 37.0, \"lat\": 55.0, \"survivors\": 97000, \"direction\": \"R\", \"group\": 1}, {\"long\": 36.8, \"lat\": 55.0, \"survivors\": 96000, \"direction\": \"R\", \"group\": 1}, {\"long\": 35.4, \"lat\": 55.3, \"survivors\": 87000, \"direction\": \"R\", \"group\": 1}, {\"long\": 34.3, \"lat\": 55.2, \"survivors\": 55000, \"direction\": \"R\", \"group\": 1}, {\"long\": 33.3, \"lat\": 54.8, \"survivors\": 37000, \"direction\": \"R\", \"group\": 1}, {\"long\": 32.0, \"lat\": 54.6, \"survivors\": 24000, \"direction\": \"R\", \"group\": 1}, {\"long\": 30.4, \"lat\": 54.4, \"survivors\": 20000, \"direction\": \"R\", \"group\": 1}, {\"long\": 29.2, \"lat\": 54.3, \"survivors\": 20000, \"direction\": \"R\", \"group\": 1}, {\"long\": 28.5, \"lat\": 54.2, \"survivors\": 20000, \"direction\": \"R\", \"group\": 1}, {\"long\": 28.3, \"lat\": 54.3, \"survivors\": 20000, \"direction\": \"R\", \"group\": 1}, {\"long\": 27.5, \"lat\": 54.5, \"survivors\": 20000, \"direction\": \"R\", \"group\": 1}, {\"long\": 26.8, \"lat\": 54.3, \"survivors\": 12000, \"direction\": \"R\", \"group\": 1}, {\"long\": 26.4, \"lat\": 54.4, \"survivors\": 14000, \"direction\": \"R\", \"group\": 1}, {\"long\": 25.0, \"lat\": 54.4, \"survivors\": 8000, \"direction\": \"R\", \"group\": 1}, {\"long\": 24.4, \"lat\": 54.4, \"survivors\": 4000, \"direction\": \"R\", \"group\": 1}, {\"long\": 24.2, \"lat\": 54.4, \"survivors\": 4000, \"direction\": \"R\", \"group\": 1}, {\"long\": 24.1, \"lat\": 54.4, \"survivors\": 4000, \"direction\": \"R\", \"group\": 1}, {\"long\": 24.0, \"lat\": 55.1, \"survivors\": 60000, \"direction\": \"A\", \"group\": 2}, {\"long\": 24.5, \"lat\": 55.2, \"survivors\": 60000, \"direction\": \"A\", \"group\": 2}, {\"long\": 25.5, \"lat\": 54.7, \"survivors\": 60000, \"direction\": \"A\", \"group\": 2}, {\"long\": 26.6, \"lat\": 55.7, \"survivors\": 40000, \"direction\": \"A\", \"group\": 2}, {\"long\": 27.4, \"lat\": 55.6, \"survivors\": 33000, \"direction\": \"A\", \"group\": 2}, {\"long\": 28.7, \"lat\": 55.5, \"survivors\": 33000, \"direction\": \"A\", \"group\": 2}, {\"long\": 28.7, \"lat\": 55.5, \"survivors\": 33000, \"direction\": \"R\", \"group\": 2}, {\"long\": 29.2, \"lat\": 54.2, \"survivors\": 30000, \"direction\": \"R\", \"group\": 2}, {\"long\": 28.5, \"lat\": 54.1, \"survivors\": 30000, \"direction\": \"R\", \"group\": 2}, {\"long\": 28.3, \"lat\": 54.2, \"survivors\": 28000, \"direction\": \"R\", \"group\": 2}, {\"long\": 24.0, \"lat\": 55.2, \"survivors\": 22000, \"direction\": \"A\", \"group\": 3}, {\"long\": 24.5, \"lat\": 55.3, \"survivors\": 22000, \"direction\": \"A\", \"group\": 3}, {\"long\": 24.6, \"lat\": 55.8, \"survivors\": 6000, \"direction\": \"A\", \"group\": 3}, {\"long\": 24.6, \"lat\": 55.8, \"survivors\": 6000, \"direction\": \"R\", \"group\": 3}, {\"long\": 24.2, \"lat\": 54.4, \"survivors\": 6000, \"direction\": \"R\", \"group\": 3}, {\"long\": 24.1, \"lat\": 54.4, \"survivors\": 6000, \"direction\": \"R\", \"group\": 3}]}}, {\"mode\": \"vega-lite\"});\n",
       "</script>"
      ],
      "text/plain": [
       "alt.Chart(...)"
      ]
     },
     "execution_count": 4,
     "metadata": {},
     "output_type": "execute_result"
    }
   ],
   "source": [
    "troops_chart = alt.Chart(troops).mark_trail().encode(\n",
    "    x='long:Q',\n",
    "    y='lat:Q',\n",
    "    size=alt.Size('survivors', scale=alt.Scale(range=[1, 75]), legend=None),\n",
    "    color=alt.Color('direction')\n",
    ")\n",
    "troops_chart"
   ]
  },
  {
   "cell_type": "code",
   "execution_count": 5,
   "metadata": {
    "colab": {
     "base_uri": "https://localhost:8080/",
     "height": 331
    },
    "id": "NpjehIUMjoNI",
    "outputId": "5aa020e6-edff-4727-a408-572b26d43a45"
   },
   "outputs": [
    {
     "data": {
      "text/html": [
       "\n",
       "<div id=\"altair-viz-e2b35c5fced94871a66129d6356f8e20\"></div>\n",
       "<script type=\"text/javascript\">\n",
       "  var VEGA_DEBUG = (typeof VEGA_DEBUG == \"undefined\") ? {} : VEGA_DEBUG;\n",
       "  (function(spec, embedOpt){\n",
       "    let outputDiv = document.currentScript.previousElementSibling;\n",
       "    if (outputDiv.id !== \"altair-viz-e2b35c5fced94871a66129d6356f8e20\") {\n",
       "      outputDiv = document.getElementById(\"altair-viz-e2b35c5fced94871a66129d6356f8e20\");\n",
       "    }\n",
       "    const paths = {\n",
       "      \"vega\": \"https://cdn.jsdelivr.net/npm//vega@5?noext\",\n",
       "      \"vega-lib\": \"https://cdn.jsdelivr.net/npm//vega-lib?noext\",\n",
       "      \"vega-lite\": \"https://cdn.jsdelivr.net/npm//vega-lite@4.17.0?noext\",\n",
       "      \"vega-embed\": \"https://cdn.jsdelivr.net/npm//vega-embed@6?noext\",\n",
       "    };\n",
       "\n",
       "    function maybeLoadScript(lib, version) {\n",
       "      var key = `${lib.replace(\"-\", \"\")}_version`;\n",
       "      return (VEGA_DEBUG[key] == version) ?\n",
       "        Promise.resolve(paths[lib]) :\n",
       "        new Promise(function(resolve, reject) {\n",
       "          var s = document.createElement('script');\n",
       "          document.getElementsByTagName(\"head\")[0].appendChild(s);\n",
       "          s.async = true;\n",
       "          s.onload = () => {\n",
       "            VEGA_DEBUG[key] = version;\n",
       "            return resolve(paths[lib]);\n",
       "          };\n",
       "          s.onerror = () => reject(`Error loading script: ${paths[lib]}`);\n",
       "          s.src = paths[lib];\n",
       "        });\n",
       "    }\n",
       "\n",
       "    function showError(err) {\n",
       "      outputDiv.innerHTML = `<div class=\"error\" style=\"color:red;\">${err}</div>`;\n",
       "      throw err;\n",
       "    }\n",
       "\n",
       "    function displayChart(vegaEmbed) {\n",
       "      vegaEmbed(outputDiv, spec, embedOpt)\n",
       "        .catch(err => showError(`Javascript Error: ${err.message}<br>This usually means there's a typo in your chart specification. See the javascript console for the full traceback.`));\n",
       "    }\n",
       "\n",
       "    if(typeof define === \"function\" && define.amd) {\n",
       "      requirejs.config({paths});\n",
       "      require([\"vega-embed\"], displayChart, err => showError(`Error loading script: ${err.message}`));\n",
       "    } else {\n",
       "      maybeLoadScript(\"vega\", \"5\")\n",
       "        .then(() => maybeLoadScript(\"vega-lite\", \"4.17.0\"))\n",
       "        .then(() => maybeLoadScript(\"vega-embed\", \"6\"))\n",
       "        .catch(showError)\n",
       "        .then(() => displayChart(vegaEmbed));\n",
       "    }\n",
       "  })({\"config\": {\"view\": {\"continuousWidth\": 400, \"continuousHeight\": 300}}, \"data\": {\"name\": \"data-56af38f370621560624276220716fba8\"}, \"mark\": \"trail\", \"encoding\": {\"color\": {\"field\": \"direction\", \"legend\": null, \"scale\": {\"domain\": [\"A\", \"R\"], \"range\": [\"#E8D2A8\", \"#888888\"]}, \"type\": \"nominal\"}, \"detail\": {\"field\": \"group\", \"type\": \"quantitative\"}, \"latitude\": {\"field\": \"lat\", \"type\": \"quantitative\"}, \"longitude\": {\"field\": \"long\", \"type\": \"quantitative\"}, \"size\": {\"field\": \"survivors\", \"legend\": null, \"scale\": {\"range\": [1, 75]}, \"type\": \"quantitative\"}}, \"projection\": {\"type\": \"mercator\"}, \"$schema\": \"https://vega.github.io/schema/vega-lite/v4.17.0.json\", \"datasets\": {\"data-56af38f370621560624276220716fba8\": [{\"long\": 24.0, \"lat\": 54.9, \"survivors\": 340000, \"direction\": \"A\", \"group\": 1}, {\"long\": 24.5, \"lat\": 55.0, \"survivors\": 340000, \"direction\": \"A\", \"group\": 1}, {\"long\": 25.5, \"lat\": 54.5, \"survivors\": 340000, \"direction\": \"A\", \"group\": 1}, {\"long\": 26.0, \"lat\": 54.7, \"survivors\": 320000, \"direction\": \"A\", \"group\": 1}, {\"long\": 27.0, \"lat\": 54.8, \"survivors\": 300000, \"direction\": \"A\", \"group\": 1}, {\"long\": 28.0, \"lat\": 54.9, \"survivors\": 280000, \"direction\": \"A\", \"group\": 1}, {\"long\": 28.5, \"lat\": 55.0, \"survivors\": 240000, \"direction\": \"A\", \"group\": 1}, {\"long\": 29.0, \"lat\": 55.1, \"survivors\": 210000, \"direction\": \"A\", \"group\": 1}, {\"long\": 30.0, \"lat\": 55.2, \"survivors\": 180000, \"direction\": \"A\", \"group\": 1}, {\"long\": 30.3, \"lat\": 55.3, \"survivors\": 175000, \"direction\": \"A\", \"group\": 1}, {\"long\": 32.0, \"lat\": 54.8, \"survivors\": 145000, \"direction\": \"A\", \"group\": 1}, {\"long\": 33.2, \"lat\": 54.9, \"survivors\": 140000, \"direction\": \"A\", \"group\": 1}, {\"long\": 34.4, \"lat\": 55.5, \"survivors\": 127100, \"direction\": \"A\", \"group\": 1}, {\"long\": 35.5, \"lat\": 55.4, \"survivors\": 100000, \"direction\": \"A\", \"group\": 1}, {\"long\": 36.0, \"lat\": 55.5, \"survivors\": 100000, \"direction\": \"A\", \"group\": 1}, {\"long\": 37.6, \"lat\": 55.8, \"survivors\": 100000, \"direction\": \"A\", \"group\": 1}, {\"long\": 37.7, \"lat\": 55.7, \"survivors\": 100000, \"direction\": \"R\", \"group\": 1}, {\"long\": 37.5, \"lat\": 55.7, \"survivors\": 98000, \"direction\": \"R\", \"group\": 1}, {\"long\": 37.0, \"lat\": 55.0, \"survivors\": 97000, \"direction\": \"R\", \"group\": 1}, {\"long\": 36.8, \"lat\": 55.0, \"survivors\": 96000, \"direction\": \"R\", \"group\": 1}, {\"long\": 35.4, \"lat\": 55.3, \"survivors\": 87000, \"direction\": \"R\", \"group\": 1}, {\"long\": 34.3, \"lat\": 55.2, \"survivors\": 55000, \"direction\": \"R\", \"group\": 1}, {\"long\": 33.3, \"lat\": 54.8, \"survivors\": 37000, \"direction\": \"R\", \"group\": 1}, {\"long\": 32.0, \"lat\": 54.6, \"survivors\": 24000, \"direction\": \"R\", \"group\": 1}, {\"long\": 30.4, \"lat\": 54.4, \"survivors\": 20000, \"direction\": \"R\", \"group\": 1}, {\"long\": 29.2, \"lat\": 54.3, \"survivors\": 20000, \"direction\": \"R\", \"group\": 1}, {\"long\": 28.5, \"lat\": 54.2, \"survivors\": 20000, \"direction\": \"R\", \"group\": 1}, {\"long\": 28.3, \"lat\": 54.3, \"survivors\": 20000, \"direction\": \"R\", \"group\": 1}, {\"long\": 27.5, \"lat\": 54.5, \"survivors\": 20000, \"direction\": \"R\", \"group\": 1}, {\"long\": 26.8, \"lat\": 54.3, \"survivors\": 12000, \"direction\": \"R\", \"group\": 1}, {\"long\": 26.4, \"lat\": 54.4, \"survivors\": 14000, \"direction\": \"R\", \"group\": 1}, {\"long\": 25.0, \"lat\": 54.4, \"survivors\": 8000, \"direction\": \"R\", \"group\": 1}, {\"long\": 24.4, \"lat\": 54.4, \"survivors\": 4000, \"direction\": \"R\", \"group\": 1}, {\"long\": 24.2, \"lat\": 54.4, \"survivors\": 4000, \"direction\": \"R\", \"group\": 1}, {\"long\": 24.1, \"lat\": 54.4, \"survivors\": 4000, \"direction\": \"R\", \"group\": 1}, {\"long\": 24.0, \"lat\": 55.1, \"survivors\": 60000, \"direction\": \"A\", \"group\": 2}, {\"long\": 24.5, \"lat\": 55.2, \"survivors\": 60000, \"direction\": \"A\", \"group\": 2}, {\"long\": 25.5, \"lat\": 54.7, \"survivors\": 60000, \"direction\": \"A\", \"group\": 2}, {\"long\": 26.6, \"lat\": 55.7, \"survivors\": 40000, \"direction\": \"A\", \"group\": 2}, {\"long\": 27.4, \"lat\": 55.6, \"survivors\": 33000, \"direction\": \"A\", \"group\": 2}, {\"long\": 28.7, \"lat\": 55.5, \"survivors\": 33000, \"direction\": \"A\", \"group\": 2}, {\"long\": 28.7, \"lat\": 55.5, \"survivors\": 33000, \"direction\": \"R\", \"group\": 2}, {\"long\": 29.2, \"lat\": 54.2, \"survivors\": 30000, \"direction\": \"R\", \"group\": 2}, {\"long\": 28.5, \"lat\": 54.1, \"survivors\": 30000, \"direction\": \"R\", \"group\": 2}, {\"long\": 28.3, \"lat\": 54.2, \"survivors\": 28000, \"direction\": \"R\", \"group\": 2}, {\"long\": 24.0, \"lat\": 55.2, \"survivors\": 22000, \"direction\": \"A\", \"group\": 3}, {\"long\": 24.5, \"lat\": 55.3, \"survivors\": 22000, \"direction\": \"A\", \"group\": 3}, {\"long\": 24.6, \"lat\": 55.8, \"survivors\": 6000, \"direction\": \"A\", \"group\": 3}, {\"long\": 24.6, \"lat\": 55.8, \"survivors\": 6000, \"direction\": \"R\", \"group\": 3}, {\"long\": 24.2, \"lat\": 54.4, \"survivors\": 6000, \"direction\": \"R\", \"group\": 3}, {\"long\": 24.1, \"lat\": 54.4, \"survivors\": 6000, \"direction\": \"R\", \"group\": 3}]}}, {\"mode\": \"vega-lite\"});\n",
       "</script>"
      ],
      "text/plain": [
       "alt.Chart(...)"
      ]
     },
     "execution_count": 5,
     "metadata": {},
     "output_type": "execute_result"
    }
   ],
   "source": [
    "# use inbuilt support for geo-data\n",
    "troops_chart = alt.Chart(troops).mark_trail().encode(\n",
    "    longitude='long:Q',\n",
    "    latitude='lat:Q',\n",
    "    size=alt.Size('survivors', scale=alt.Scale(range=[1, 75]), legend=None),\n",
    "    detail='group',\n",
    "    color=alt.Color(\n",
    "        'direction', \n",
    "        scale=alt.Scale(domain=['A', 'R'], range=['#E8D2A8','#888888']),\n",
    "        legend=None\n",
    "        )\n",
    "    ).project(type=\"mercator\")\n",
    "troops_chart"
   ]
  },
  {
   "cell_type": "code",
   "execution_count": 6,
   "metadata": {
    "colab": {
     "base_uri": "https://localhost:8080/",
     "height": 331
    },
    "id": "sWIHTnxSjsc6",
    "outputId": "6a24b144-09e3-4529-9355-8a02c876ac34"
   },
   "outputs": [
    {
     "data": {
      "text/html": [
       "\n",
       "<div id=\"altair-viz-14784204f9b3464c9d92ecfa27193e4a\"></div>\n",
       "<script type=\"text/javascript\">\n",
       "  var VEGA_DEBUG = (typeof VEGA_DEBUG == \"undefined\") ? {} : VEGA_DEBUG;\n",
       "  (function(spec, embedOpt){\n",
       "    let outputDiv = document.currentScript.previousElementSibling;\n",
       "    if (outputDiv.id !== \"altair-viz-14784204f9b3464c9d92ecfa27193e4a\") {\n",
       "      outputDiv = document.getElementById(\"altair-viz-14784204f9b3464c9d92ecfa27193e4a\");\n",
       "    }\n",
       "    const paths = {\n",
       "      \"vega\": \"https://cdn.jsdelivr.net/npm//vega@5?noext\",\n",
       "      \"vega-lib\": \"https://cdn.jsdelivr.net/npm//vega-lib?noext\",\n",
       "      \"vega-lite\": \"https://cdn.jsdelivr.net/npm//vega-lite@4.17.0?noext\",\n",
       "      \"vega-embed\": \"https://cdn.jsdelivr.net/npm//vega-embed@6?noext\",\n",
       "    };\n",
       "\n",
       "    function maybeLoadScript(lib, version) {\n",
       "      var key = `${lib.replace(\"-\", \"\")}_version`;\n",
       "      return (VEGA_DEBUG[key] == version) ?\n",
       "        Promise.resolve(paths[lib]) :\n",
       "        new Promise(function(resolve, reject) {\n",
       "          var s = document.createElement('script');\n",
       "          document.getElementsByTagName(\"head\")[0].appendChild(s);\n",
       "          s.async = true;\n",
       "          s.onload = () => {\n",
       "            VEGA_DEBUG[key] = version;\n",
       "            return resolve(paths[lib]);\n",
       "          };\n",
       "          s.onerror = () => reject(`Error loading script: ${paths[lib]}`);\n",
       "          s.src = paths[lib];\n",
       "        });\n",
       "    }\n",
       "\n",
       "    function showError(err) {\n",
       "      outputDiv.innerHTML = `<div class=\"error\" style=\"color:red;\">${err}</div>`;\n",
       "      throw err;\n",
       "    }\n",
       "\n",
       "    function displayChart(vegaEmbed) {\n",
       "      vegaEmbed(outputDiv, spec, embedOpt)\n",
       "        .catch(err => showError(`Javascript Error: ${err.message}<br>This usually means there's a typo in your chart specification. See the javascript console for the full traceback.`));\n",
       "    }\n",
       "\n",
       "    if(typeof define === \"function\" && define.amd) {\n",
       "      requirejs.config({paths});\n",
       "      require([\"vega-embed\"], displayChart, err => showError(`Error loading script: ${err.message}`));\n",
       "    } else {\n",
       "      maybeLoadScript(\"vega\", \"5\")\n",
       "        .then(() => maybeLoadScript(\"vega-lite\", \"4.17.0\"))\n",
       "        .then(() => maybeLoadScript(\"vega-embed\", \"6\"))\n",
       "        .catch(showError)\n",
       "        .then(() => displayChart(vegaEmbed));\n",
       "    }\n",
       "  })({\"config\": {\"view\": {\"continuousWidth\": 400, \"continuousHeight\": 300}}, \"data\": {\"name\": \"data-56af38f370621560624276220716fba8\"}, \"mark\": {\"type\": \"text\", \"angle\": 280, \"font\": \"Cardo\", \"fontSize\": 7, \"fontStyle\": \"italic\"}, \"encoding\": {\"latitude\": {\"field\": \"lat\", \"type\": \"quantitative\"}, \"longitude\": {\"field\": \"long\", \"type\": \"quantitative\"}, \"text\": {\"field\": \"survivors\", \"type\": \"quantitative\"}}, \"projection\": {\"type\": \"mercator\"}, \"$schema\": \"https://vega.github.io/schema/vega-lite/v4.17.0.json\", \"datasets\": {\"data-56af38f370621560624276220716fba8\": [{\"long\": 24.0, \"lat\": 54.9, \"survivors\": 340000, \"direction\": \"A\", \"group\": 1}, {\"long\": 24.5, \"lat\": 55.0, \"survivors\": 340000, \"direction\": \"A\", \"group\": 1}, {\"long\": 25.5, \"lat\": 54.5, \"survivors\": 340000, \"direction\": \"A\", \"group\": 1}, {\"long\": 26.0, \"lat\": 54.7, \"survivors\": 320000, \"direction\": \"A\", \"group\": 1}, {\"long\": 27.0, \"lat\": 54.8, \"survivors\": 300000, \"direction\": \"A\", \"group\": 1}, {\"long\": 28.0, \"lat\": 54.9, \"survivors\": 280000, \"direction\": \"A\", \"group\": 1}, {\"long\": 28.5, \"lat\": 55.0, \"survivors\": 240000, \"direction\": \"A\", \"group\": 1}, {\"long\": 29.0, \"lat\": 55.1, \"survivors\": 210000, \"direction\": \"A\", \"group\": 1}, {\"long\": 30.0, \"lat\": 55.2, \"survivors\": 180000, \"direction\": \"A\", \"group\": 1}, {\"long\": 30.3, \"lat\": 55.3, \"survivors\": 175000, \"direction\": \"A\", \"group\": 1}, {\"long\": 32.0, \"lat\": 54.8, \"survivors\": 145000, \"direction\": \"A\", \"group\": 1}, {\"long\": 33.2, \"lat\": 54.9, \"survivors\": 140000, \"direction\": \"A\", \"group\": 1}, {\"long\": 34.4, \"lat\": 55.5, \"survivors\": 127100, \"direction\": \"A\", \"group\": 1}, {\"long\": 35.5, \"lat\": 55.4, \"survivors\": 100000, \"direction\": \"A\", \"group\": 1}, {\"long\": 36.0, \"lat\": 55.5, \"survivors\": 100000, \"direction\": \"A\", \"group\": 1}, {\"long\": 37.6, \"lat\": 55.8, \"survivors\": 100000, \"direction\": \"A\", \"group\": 1}, {\"long\": 37.7, \"lat\": 55.7, \"survivors\": 100000, \"direction\": \"R\", \"group\": 1}, {\"long\": 37.5, \"lat\": 55.7, \"survivors\": 98000, \"direction\": \"R\", \"group\": 1}, {\"long\": 37.0, \"lat\": 55.0, \"survivors\": 97000, \"direction\": \"R\", \"group\": 1}, {\"long\": 36.8, \"lat\": 55.0, \"survivors\": 96000, \"direction\": \"R\", \"group\": 1}, {\"long\": 35.4, \"lat\": 55.3, \"survivors\": 87000, \"direction\": \"R\", \"group\": 1}, {\"long\": 34.3, \"lat\": 55.2, \"survivors\": 55000, \"direction\": \"R\", \"group\": 1}, {\"long\": 33.3, \"lat\": 54.8, \"survivors\": 37000, \"direction\": \"R\", \"group\": 1}, {\"long\": 32.0, \"lat\": 54.6, \"survivors\": 24000, \"direction\": \"R\", \"group\": 1}, {\"long\": 30.4, \"lat\": 54.4, \"survivors\": 20000, \"direction\": \"R\", \"group\": 1}, {\"long\": 29.2, \"lat\": 54.3, \"survivors\": 20000, \"direction\": \"R\", \"group\": 1}, {\"long\": 28.5, \"lat\": 54.2, \"survivors\": 20000, \"direction\": \"R\", \"group\": 1}, {\"long\": 28.3, \"lat\": 54.3, \"survivors\": 20000, \"direction\": \"R\", \"group\": 1}, {\"long\": 27.5, \"lat\": 54.5, \"survivors\": 20000, \"direction\": \"R\", \"group\": 1}, {\"long\": 26.8, \"lat\": 54.3, \"survivors\": 12000, \"direction\": \"R\", \"group\": 1}, {\"long\": 26.4, \"lat\": 54.4, \"survivors\": 14000, \"direction\": \"R\", \"group\": 1}, {\"long\": 25.0, \"lat\": 54.4, \"survivors\": 8000, \"direction\": \"R\", \"group\": 1}, {\"long\": 24.4, \"lat\": 54.4, \"survivors\": 4000, \"direction\": \"R\", \"group\": 1}, {\"long\": 24.2, \"lat\": 54.4, \"survivors\": 4000, \"direction\": \"R\", \"group\": 1}, {\"long\": 24.1, \"lat\": 54.4, \"survivors\": 4000, \"direction\": \"R\", \"group\": 1}, {\"long\": 24.0, \"lat\": 55.1, \"survivors\": 60000, \"direction\": \"A\", \"group\": 2}, {\"long\": 24.5, \"lat\": 55.2, \"survivors\": 60000, \"direction\": \"A\", \"group\": 2}, {\"long\": 25.5, \"lat\": 54.7, \"survivors\": 60000, \"direction\": \"A\", \"group\": 2}, {\"long\": 26.6, \"lat\": 55.7, \"survivors\": 40000, \"direction\": \"A\", \"group\": 2}, {\"long\": 27.4, \"lat\": 55.6, \"survivors\": 33000, \"direction\": \"A\", \"group\": 2}, {\"long\": 28.7, \"lat\": 55.5, \"survivors\": 33000, \"direction\": \"A\", \"group\": 2}, {\"long\": 28.7, \"lat\": 55.5, \"survivors\": 33000, \"direction\": \"R\", \"group\": 2}, {\"long\": 29.2, \"lat\": 54.2, \"survivors\": 30000, \"direction\": \"R\", \"group\": 2}, {\"long\": 28.5, \"lat\": 54.1, \"survivors\": 30000, \"direction\": \"R\", \"group\": 2}, {\"long\": 28.3, \"lat\": 54.2, \"survivors\": 28000, \"direction\": \"R\", \"group\": 2}, {\"long\": 24.0, \"lat\": 55.2, \"survivors\": 22000, \"direction\": \"A\", \"group\": 3}, {\"long\": 24.5, \"lat\": 55.3, \"survivors\": 22000, \"direction\": \"A\", \"group\": 3}, {\"long\": 24.6, \"lat\": 55.8, \"survivors\": 6000, \"direction\": \"A\", \"group\": 3}, {\"long\": 24.6, \"lat\": 55.8, \"survivors\": 6000, \"direction\": \"R\", \"group\": 3}, {\"long\": 24.2, \"lat\": 54.4, \"survivors\": 6000, \"direction\": \"R\", \"group\": 3}, {\"long\": 24.1, \"lat\": 54.4, \"survivors\": 6000, \"direction\": \"R\", \"group\": 3}]}}, {\"mode\": \"vega-lite\"});\n",
       "</script>"
      ],
      "text/plain": [
       "alt.Chart(...)"
      ]
     },
     "execution_count": 6,
     "metadata": {},
     "output_type": "execute_result"
    }
   ],
   "source": [
    "troops_text_chart = alt.Chart(troops).mark_text(\n",
    "    font=\"Cardo\",\n",
    "    fontSize=7,\n",
    "    fontStyle=\"italic\",\n",
    "    angle=280\n",
    ").encode(\n",
    "    longitude='long:Q',\n",
    "    latitude='lat:Q',\n",
    "    text='survivors',\n",
    ").project(type=\"mercator\")\n",
    "troops_text_chart"
   ]
  },
  {
   "cell_type": "code",
   "execution_count": 7,
   "metadata": {
    "colab": {
     "base_uri": "https://localhost:8080/",
     "height": 331
    },
    "id": "a0thoNXoj46N",
    "outputId": "f7209311-fef1-4b31-989c-1357c6f117a7"
   },
   "outputs": [
    {
     "data": {
      "text/html": [
       "\n",
       "<div id=\"altair-viz-3d91e2c5b19c4d9d91637f4531d47aac\"></div>\n",
       "<script type=\"text/javascript\">\n",
       "  var VEGA_DEBUG = (typeof VEGA_DEBUG == \"undefined\") ? {} : VEGA_DEBUG;\n",
       "  (function(spec, embedOpt){\n",
       "    let outputDiv = document.currentScript.previousElementSibling;\n",
       "    if (outputDiv.id !== \"altair-viz-3d91e2c5b19c4d9d91637f4531d47aac\") {\n",
       "      outputDiv = document.getElementById(\"altair-viz-3d91e2c5b19c4d9d91637f4531d47aac\");\n",
       "    }\n",
       "    const paths = {\n",
       "      \"vega\": \"https://cdn.jsdelivr.net/npm//vega@5?noext\",\n",
       "      \"vega-lib\": \"https://cdn.jsdelivr.net/npm//vega-lib?noext\",\n",
       "      \"vega-lite\": \"https://cdn.jsdelivr.net/npm//vega-lite@4.17.0?noext\",\n",
       "      \"vega-embed\": \"https://cdn.jsdelivr.net/npm//vega-embed@6?noext\",\n",
       "    };\n",
       "\n",
       "    function maybeLoadScript(lib, version) {\n",
       "      var key = `${lib.replace(\"-\", \"\")}_version`;\n",
       "      return (VEGA_DEBUG[key] == version) ?\n",
       "        Promise.resolve(paths[lib]) :\n",
       "        new Promise(function(resolve, reject) {\n",
       "          var s = document.createElement('script');\n",
       "          document.getElementsByTagName(\"head\")[0].appendChild(s);\n",
       "          s.async = true;\n",
       "          s.onload = () => {\n",
       "            VEGA_DEBUG[key] = version;\n",
       "            return resolve(paths[lib]);\n",
       "          };\n",
       "          s.onerror = () => reject(`Error loading script: ${paths[lib]}`);\n",
       "          s.src = paths[lib];\n",
       "        });\n",
       "    }\n",
       "\n",
       "    function showError(err) {\n",
       "      outputDiv.innerHTML = `<div class=\"error\" style=\"color:red;\">${err}</div>`;\n",
       "      throw err;\n",
       "    }\n",
       "\n",
       "    function displayChart(vegaEmbed) {\n",
       "      vegaEmbed(outputDiv, spec, embedOpt)\n",
       "        .catch(err => showError(`Javascript Error: ${err.message}<br>This usually means there's a typo in your chart specification. See the javascript console for the full traceback.`));\n",
       "    }\n",
       "\n",
       "    if(typeof define === \"function\" && define.amd) {\n",
       "      requirejs.config({paths});\n",
       "      require([\"vega-embed\"], displayChart, err => showError(`Error loading script: ${err.message}`));\n",
       "    } else {\n",
       "      maybeLoadScript(\"vega\", \"5\")\n",
       "        .then(() => maybeLoadScript(\"vega-lite\", \"4.17.0\"))\n",
       "        .then(() => maybeLoadScript(\"vega-embed\", \"6\"))\n",
       "        .catch(showError)\n",
       "        .then(() => displayChart(vegaEmbed));\n",
       "    }\n",
       "  })({\"config\": {\"view\": {\"continuousWidth\": 400, \"continuousHeight\": 300}}, \"data\": {\"name\": \"data-b40ad95d03717c8464b78bdbccd6fbb8\"}, \"mark\": {\"type\": \"text\", \"dx\": -3, \"font\": \"Cardo\", \"fontSize\": 11, \"fontStyle\": \"italic\"}, \"encoding\": {\"latitude\": {\"field\": \"lat\", \"type\": \"quantitative\"}, \"longitude\": {\"field\": \"long\", \"type\": \"quantitative\"}, \"text\": {\"field\": \"city\", \"type\": \"nominal\"}}, \"projection\": {\"type\": \"mercator\"}, \"$schema\": \"https://vega.github.io/schema/vega-lite/v4.17.0.json\", \"datasets\": {\"data-b40ad95d03717c8464b78bdbccd6fbb8\": [{\"long\": 24.0, \"lat\": 55.0, \"city\": \"Kowno\"}, {\"long\": 25.3, \"lat\": 54.7, \"city\": \"Wilna\"}, {\"long\": 26.4, \"lat\": 54.4, \"city\": \"Smorgoni\"}, {\"long\": 26.8, \"lat\": 54.3, \"city\": \"Moiodexno\"}, {\"long\": 27.7, \"lat\": 55.2, \"city\": \"Gloubokoe\"}, {\"long\": 27.6, \"lat\": 53.9, \"city\": \"Minsk\"}, {\"long\": 28.5, \"lat\": 54.3, \"city\": \"Studienska\"}, {\"long\": 28.7, \"lat\": 55.5, \"city\": \"Polotzk\"}, {\"long\": 29.2, \"lat\": 54.4, \"city\": \"Bobr\"}, {\"long\": 30.2, \"lat\": 55.3, \"city\": \"Witebsk\"}, {\"long\": 30.4, \"lat\": 54.5, \"city\": \"Orscha\"}, {\"long\": 30.4, \"lat\": 53.9, \"city\": \"Mohilow\"}, {\"long\": 32.0, \"lat\": 54.8, \"city\": \"Smolensk\"}, {\"long\": 33.2, \"lat\": 54.9, \"city\": \"Dorogobouge\"}, {\"long\": 34.3, \"lat\": 55.2, \"city\": \"Wixma\"}, {\"long\": 34.4, \"lat\": 55.5, \"city\": \"Chjat\"}, {\"long\": 36.0, \"lat\": 55.5, \"city\": \"Mojaisk\"}, {\"long\": 37.6, \"lat\": 55.8, \"city\": \"Moscou\"}, {\"long\": 36.6, \"lat\": 55.3, \"city\": \"Tarantino\"}, {\"long\": 36.5, \"lat\": 55.0, \"city\": \"Malo-Jarosewii\"}]}}, {\"mode\": \"vega-lite\"});\n",
       "</script>"
      ],
      "text/plain": [
       "alt.Chart(...)"
      ]
     },
     "execution_count": 7,
     "metadata": {},
     "output_type": "execute_result"
    }
   ],
   "source": [
    "cities_chart = alt.Chart(cities).mark_text(\n",
    "    font=\"Cardo\",\n",
    "    fontSize=11,\n",
    "    fontStyle=\"italic\",\n",
    "    dx=-3\n",
    ").encode(\n",
    "    longitude='long:Q',\n",
    "    latitude='lat:Q',\n",
    "    text='city'\n",
    ").project(type=\"mercator\")\n",
    "cities_chart"
   ]
  },
  {
   "cell_type": "code",
   "execution_count": 8,
   "metadata": {
    "colab": {
     "base_uri": "https://localhost:8080/",
     "height": 361
    },
    "id": "qnh4GT-k6_DR",
    "outputId": "12019cb5-e1ad-46f3-97ea-89e1de56a6d6"
   },
   "outputs": [
    {
     "data": {
      "text/html": [
       "\n",
       "<div id=\"altair-viz-4de005535c684bd1803c629672a1c162\"></div>\n",
       "<script type=\"text/javascript\">\n",
       "  var VEGA_DEBUG = (typeof VEGA_DEBUG == \"undefined\") ? {} : VEGA_DEBUG;\n",
       "  (function(spec, embedOpt){\n",
       "    let outputDiv = document.currentScript.previousElementSibling;\n",
       "    if (outputDiv.id !== \"altair-viz-4de005535c684bd1803c629672a1c162\") {\n",
       "      outputDiv = document.getElementById(\"altair-viz-4de005535c684bd1803c629672a1c162\");\n",
       "    }\n",
       "    const paths = {\n",
       "      \"vega\": \"https://cdn.jsdelivr.net/npm//vega@5?noext\",\n",
       "      \"vega-lib\": \"https://cdn.jsdelivr.net/npm//vega-lib?noext\",\n",
       "      \"vega-lite\": \"https://cdn.jsdelivr.net/npm//vega-lite@4.17.0?noext\",\n",
       "      \"vega-embed\": \"https://cdn.jsdelivr.net/npm//vega-embed@6?noext\",\n",
       "    };\n",
       "\n",
       "    function maybeLoadScript(lib, version) {\n",
       "      var key = `${lib.replace(\"-\", \"\")}_version`;\n",
       "      return (VEGA_DEBUG[key] == version) ?\n",
       "        Promise.resolve(paths[lib]) :\n",
       "        new Promise(function(resolve, reject) {\n",
       "          var s = document.createElement('script');\n",
       "          document.getElementsByTagName(\"head\")[0].appendChild(s);\n",
       "          s.async = true;\n",
       "          s.onload = () => {\n",
       "            VEGA_DEBUG[key] = version;\n",
       "            return resolve(paths[lib]);\n",
       "          };\n",
       "          s.onerror = () => reject(`Error loading script: ${paths[lib]}`);\n",
       "          s.src = paths[lib];\n",
       "        });\n",
       "    }\n",
       "\n",
       "    function showError(err) {\n",
       "      outputDiv.innerHTML = `<div class=\"error\" style=\"color:red;\">${err}</div>`;\n",
       "      throw err;\n",
       "    }\n",
       "\n",
       "    function displayChart(vegaEmbed) {\n",
       "      vegaEmbed(outputDiv, spec, embedOpt)\n",
       "        .catch(err => showError(`Javascript Error: ${err.message}<br>This usually means there's a typo in your chart specification. See the javascript console for the full traceback.`));\n",
       "    }\n",
       "\n",
       "    if(typeof define === \"function\" && define.amd) {\n",
       "      requirejs.config({paths});\n",
       "      require([\"vega-embed\"], displayChart, err => showError(`Error loading script: ${err.message}`));\n",
       "    } else {\n",
       "      maybeLoadScript(\"vega\", \"5\")\n",
       "        .then(() => maybeLoadScript(\"vega-lite\", \"4.17.0\"))\n",
       "        .then(() => maybeLoadScript(\"vega-embed\", \"6\"))\n",
       "        .catch(showError)\n",
       "        .then(() => displayChart(vegaEmbed));\n",
       "    }\n",
       "  })({\"config\": {\"view\": {\"continuousWidth\": 400, \"continuousHeight\": 300}}, \"layer\": [{\"mark\": {\"type\": \"line\", \"color\": \"#888888\"}, \"encoding\": {\"x\": {\"axis\": null, \"field\": \"long\", \"scale\": {\"domain\": [24.0, 37.6]}, \"type\": \"quantitative\"}, \"y\": {\"axis\": {\"grid\": true, \"orient\": \"right\", \"title\": \"Temperature on Retreat\"}, \"field\": \"temp\", \"type\": \"quantitative\"}}}, {\"mark\": {\"type\": \"text\", \"dx\": 5, \"dy\": 20, \"font\": \"Cardo\", \"fontSize\": 10}, \"encoding\": {\"text\": {\"field\": \"label\", \"type\": \"nominal\"}, \"x\": {\"axis\": null, \"field\": \"long\", \"scale\": {\"domain\": [24.0, 37.6]}, \"type\": \"quantitative\"}, \"y\": {\"axis\": {\"grid\": true, \"orient\": \"right\", \"title\": \"Temperature on Retreat\"}, \"field\": \"temp\", \"type\": \"quantitative\"}}}], \"data\": {\"name\": \"data-596e2e62bb4db06076a52901461208bc\"}, \"$schema\": \"https://vega.github.io/schema/vega-lite/v4.17.0.json\", \"datasets\": {\"data-596e2e62bb4db06076a52901461208bc\": [{\"long\": 37.6, \"temp\": 0, \"days\": 6, \"date\": \"Oct18\", \"label\": \"0\\u00b0 Oct18\"}, {\"long\": 36.0, \"temp\": 0, \"days\": 6, \"date\": \"Oct24\", \"label\": \"0\\u00b0 Oct24\"}, {\"long\": 33.2, \"temp\": -9, \"days\": 16, \"date\": \"Nov09\", \"label\": \"-9\\u00b0 Nov09\"}, {\"long\": 32.0, \"temp\": -21, \"days\": 5, \"date\": \"Nov14\", \"label\": \"-21\\u00b0 Nov14\"}, {\"long\": 29.2, \"temp\": -11, \"days\": 10, \"date\": null, \"label\": null}, {\"long\": 28.5, \"temp\": -20, \"days\": 4, \"date\": \"Nov28\", \"label\": \"-20\\u00b0 Nov28\"}, {\"long\": 27.2, \"temp\": -24, \"days\": 3, \"date\": \"Dec01\", \"label\": \"-24\\u00b0 Dec01\"}, {\"long\": 26.7, \"temp\": -30, \"days\": 5, \"date\": \"Dec06\", \"label\": \"-30\\u00b0 Dec06\"}, {\"long\": 25.3, \"temp\": -26, \"days\": 1, \"date\": \"Dec07\", \"label\": \"-26\\u00b0 Dec07\"}]}}, {\"mode\": \"vega-lite\"});\n",
       "</script>"
      ],
      "text/plain": [
       "alt.LayerChart(...)"
      ]
     },
     "execution_count": 8,
     "metadata": {},
     "output_type": "execute_result"
    }
   ],
   "source": [
    "x_encode = alt.X(\n",
    "    'long:Q',\n",
    "    scale = alt.Scale(\n",
    "        domain=[cities[\"long\"].min(),cities[\"long\"].max()]\n",
    "    ),\n",
    "    axis=None\n",
    ")\n",
    "\n",
    "y_encode = alt.Y(\n",
    "    'temp',\n",
    "    axis = alt.Axis(\n",
    "        title=\"Temperature on Retreat\",\n",
    "        grid=True,\n",
    "        orient='right'\n",
    "    )\n",
    ")\n",
    "\n",
    "temperatures_chart = alt.Chart(temperature).mark_line(\n",
    "    color=\"#888888\"\n",
    ").encode(\n",
    "    x=x_encode,\n",
    "    y=y_encode\n",
    ") + alt.Chart(temperature).mark_text(\n",
    "    dx=5, dy=20,\n",
    "    font=\"Cardo\",\n",
    "    fontSize=10\n",
    ").encode(\n",
    "    x=x_encode,\n",
    "    y=y_encode,\n",
    "    text='label'\n",
    ")\n",
    "\n",
    "temperatures_chart"
   ]
  },
  {
   "cell_type": "code",
   "execution_count": 9,
   "metadata": {
    "colab": {
     "base_uri": "https://localhost:8080/",
     "height": 583
    },
    "id": "R3xd3lfNCM7N",
    "outputId": "71b437a5-77db-4b4b-d478-1b896215c810"
   },
   "outputs": [
    {
     "data": {
      "text/html": [
       "\n",
       "<div id=\"altair-viz-98fb143b5d274643b1c9feea56c07760\"></div>\n",
       "<script type=\"text/javascript\">\n",
       "  var VEGA_DEBUG = (typeof VEGA_DEBUG == \"undefined\") ? {} : VEGA_DEBUG;\n",
       "  (function(spec, embedOpt){\n",
       "    let outputDiv = document.currentScript.previousElementSibling;\n",
       "    if (outputDiv.id !== \"altair-viz-98fb143b5d274643b1c9feea56c07760\") {\n",
       "      outputDiv = document.getElementById(\"altair-viz-98fb143b5d274643b1c9feea56c07760\");\n",
       "    }\n",
       "    const paths = {\n",
       "      \"vega\": \"https://cdn.jsdelivr.net/npm//vega@5?noext\",\n",
       "      \"vega-lib\": \"https://cdn.jsdelivr.net/npm//vega-lib?noext\",\n",
       "      \"vega-lite\": \"https://cdn.jsdelivr.net/npm//vega-lite@4.17.0?noext\",\n",
       "      \"vega-embed\": \"https://cdn.jsdelivr.net/npm//vega-embed@6?noext\",\n",
       "    };\n",
       "\n",
       "    function maybeLoadScript(lib, version) {\n",
       "      var key = `${lib.replace(\"-\", \"\")}_version`;\n",
       "      return (VEGA_DEBUG[key] == version) ?\n",
       "        Promise.resolve(paths[lib]) :\n",
       "        new Promise(function(resolve, reject) {\n",
       "          var s = document.createElement('script');\n",
       "          document.getElementsByTagName(\"head\")[0].appendChild(s);\n",
       "          s.async = true;\n",
       "          s.onload = () => {\n",
       "            VEGA_DEBUG[key] = version;\n",
       "            return resolve(paths[lib]);\n",
       "          };\n",
       "          s.onerror = () => reject(`Error loading script: ${paths[lib]}`);\n",
       "          s.src = paths[lib];\n",
       "        });\n",
       "    }\n",
       "\n",
       "    function showError(err) {\n",
       "      outputDiv.innerHTML = `<div class=\"error\" style=\"color:red;\">${err}</div>`;\n",
       "      throw err;\n",
       "    }\n",
       "\n",
       "    function displayChart(vegaEmbed) {\n",
       "      vegaEmbed(outputDiv, spec, embedOpt)\n",
       "        .catch(err => showError(`Javascript Error: ${err.message}<br>This usually means there's a typo in your chart specification. See the javascript console for the full traceback.`));\n",
       "    }\n",
       "\n",
       "    if(typeof define === \"function\" && define.amd) {\n",
       "      requirejs.config({paths});\n",
       "      require([\"vega-embed\"], displayChart, err => showError(`Error loading script: ${err.message}`));\n",
       "    } else {\n",
       "      maybeLoadScript(\"vega\", \"5\")\n",
       "        .then(() => maybeLoadScript(\"vega-lite\", \"4.17.0\"))\n",
       "        .then(() => maybeLoadScript(\"vega-embed\", \"6\"))\n",
       "        .catch(showError)\n",
       "        .then(() => displayChart(vegaEmbed));\n",
       "    }\n",
       "  })({\"config\": {\"view\": {\"continuousWidth\": 400, \"continuousHeight\": 300, \"height\": 400, \"strokeWidth\": 0, \"width\": 900}, \"axis\": {\"grid\": false, \"labelFont\": \"Cardo\", \"titleFont\": \"Cardo\"}}, \"vconcat\": [{\"layer\": [{\"data\": {\"name\": \"data-56af38f370621560624276220716fba8\"}, \"mark\": \"trail\", \"encoding\": {\"color\": {\"field\": \"direction\", \"legend\": null, \"scale\": {\"domain\": [\"A\", \"R\"], \"range\": [\"#E8D2A8\", \"#888888\"]}, \"type\": \"nominal\"}, \"detail\": {\"field\": \"group\", \"type\": \"quantitative\"}, \"latitude\": {\"field\": \"lat\", \"type\": \"quantitative\"}, \"longitude\": {\"field\": \"long\", \"type\": \"quantitative\"}, \"size\": {\"field\": \"survivors\", \"legend\": null, \"scale\": {\"range\": [1, 75]}, \"type\": \"quantitative\"}}, \"projection\": {\"type\": \"mercator\"}}, {\"data\": {\"name\": \"data-b40ad95d03717c8464b78bdbccd6fbb8\"}, \"mark\": {\"type\": \"text\", \"dx\": -3, \"font\": \"Cardo\", \"fontSize\": 11, \"fontStyle\": \"italic\"}, \"encoding\": {\"latitude\": {\"field\": \"lat\", \"type\": \"quantitative\"}, \"longitude\": {\"field\": \"long\", \"type\": \"quantitative\"}, \"text\": {\"field\": \"city\", \"type\": \"nominal\"}}, \"projection\": {\"type\": \"mercator\"}}, {\"data\": {\"name\": \"data-56af38f370621560624276220716fba8\"}, \"mark\": {\"type\": \"text\", \"angle\": 280, \"font\": \"Cardo\", \"fontSize\": 7, \"fontStyle\": \"italic\"}, \"encoding\": {\"latitude\": {\"field\": \"lat\", \"type\": \"quantitative\"}, \"longitude\": {\"field\": \"long\", \"type\": \"quantitative\"}, \"text\": {\"field\": \"survivors\", \"type\": \"quantitative\"}}, \"projection\": {\"type\": \"mercator\"}}]}, {\"layer\": [{\"mark\": {\"type\": \"line\", \"color\": \"#888888\"}, \"encoding\": {\"x\": {\"axis\": null, \"field\": \"long\", \"scale\": {\"domain\": [24.0, 37.6]}, \"type\": \"quantitative\"}, \"y\": {\"axis\": {\"grid\": true, \"orient\": \"right\", \"title\": \"Temperature on Retreat\"}, \"field\": \"temp\", \"type\": \"quantitative\"}}}, {\"mark\": {\"type\": \"text\", \"dx\": 5, \"dy\": 20, \"font\": \"Cardo\", \"fontSize\": 10}, \"encoding\": {\"text\": {\"field\": \"label\", \"type\": \"nominal\"}, \"x\": {\"axis\": null, \"field\": \"long\", \"scale\": {\"domain\": [24.0, 37.6]}, \"type\": \"quantitative\"}, \"y\": {\"axis\": {\"grid\": true, \"orient\": \"right\", \"title\": \"Temperature on Retreat\"}, \"field\": \"temp\", \"type\": \"quantitative\"}}}], \"data\": {\"name\": \"data-596e2e62bb4db06076a52901461208bc\"}, \"height\": 100}], \"$schema\": \"https://vega.github.io/schema/vega-lite/v4.17.0.json\", \"datasets\": {\"data-56af38f370621560624276220716fba8\": [{\"long\": 24.0, \"lat\": 54.9, \"survivors\": 340000, \"direction\": \"A\", \"group\": 1}, {\"long\": 24.5, \"lat\": 55.0, \"survivors\": 340000, \"direction\": \"A\", \"group\": 1}, {\"long\": 25.5, \"lat\": 54.5, \"survivors\": 340000, \"direction\": \"A\", \"group\": 1}, {\"long\": 26.0, \"lat\": 54.7, \"survivors\": 320000, \"direction\": \"A\", \"group\": 1}, {\"long\": 27.0, \"lat\": 54.8, \"survivors\": 300000, \"direction\": \"A\", \"group\": 1}, {\"long\": 28.0, \"lat\": 54.9, \"survivors\": 280000, \"direction\": \"A\", \"group\": 1}, {\"long\": 28.5, \"lat\": 55.0, \"survivors\": 240000, \"direction\": \"A\", \"group\": 1}, {\"long\": 29.0, \"lat\": 55.1, \"survivors\": 210000, \"direction\": \"A\", \"group\": 1}, {\"long\": 30.0, \"lat\": 55.2, \"survivors\": 180000, \"direction\": \"A\", \"group\": 1}, {\"long\": 30.3, \"lat\": 55.3, \"survivors\": 175000, \"direction\": \"A\", \"group\": 1}, {\"long\": 32.0, \"lat\": 54.8, \"survivors\": 145000, \"direction\": \"A\", \"group\": 1}, {\"long\": 33.2, \"lat\": 54.9, \"survivors\": 140000, \"direction\": \"A\", \"group\": 1}, {\"long\": 34.4, \"lat\": 55.5, \"survivors\": 127100, \"direction\": \"A\", \"group\": 1}, {\"long\": 35.5, \"lat\": 55.4, \"survivors\": 100000, \"direction\": \"A\", \"group\": 1}, {\"long\": 36.0, \"lat\": 55.5, \"survivors\": 100000, \"direction\": \"A\", \"group\": 1}, {\"long\": 37.6, \"lat\": 55.8, \"survivors\": 100000, \"direction\": \"A\", \"group\": 1}, {\"long\": 37.7, \"lat\": 55.7, \"survivors\": 100000, \"direction\": \"R\", \"group\": 1}, {\"long\": 37.5, \"lat\": 55.7, \"survivors\": 98000, \"direction\": \"R\", \"group\": 1}, {\"long\": 37.0, \"lat\": 55.0, \"survivors\": 97000, \"direction\": \"R\", \"group\": 1}, {\"long\": 36.8, \"lat\": 55.0, \"survivors\": 96000, \"direction\": \"R\", \"group\": 1}, {\"long\": 35.4, \"lat\": 55.3, \"survivors\": 87000, \"direction\": \"R\", \"group\": 1}, {\"long\": 34.3, \"lat\": 55.2, \"survivors\": 55000, \"direction\": \"R\", \"group\": 1}, {\"long\": 33.3, \"lat\": 54.8, \"survivors\": 37000, \"direction\": \"R\", \"group\": 1}, {\"long\": 32.0, \"lat\": 54.6, \"survivors\": 24000, \"direction\": \"R\", \"group\": 1}, {\"long\": 30.4, \"lat\": 54.4, \"survivors\": 20000, \"direction\": \"R\", \"group\": 1}, {\"long\": 29.2, \"lat\": 54.3, \"survivors\": 20000, \"direction\": \"R\", \"group\": 1}, {\"long\": 28.5, \"lat\": 54.2, \"survivors\": 20000, \"direction\": \"R\", \"group\": 1}, {\"long\": 28.3, \"lat\": 54.3, \"survivors\": 20000, \"direction\": \"R\", \"group\": 1}, {\"long\": 27.5, \"lat\": 54.5, \"survivors\": 20000, \"direction\": \"R\", \"group\": 1}, {\"long\": 26.8, \"lat\": 54.3, \"survivors\": 12000, \"direction\": \"R\", \"group\": 1}, {\"long\": 26.4, \"lat\": 54.4, \"survivors\": 14000, \"direction\": \"R\", \"group\": 1}, {\"long\": 25.0, \"lat\": 54.4, \"survivors\": 8000, \"direction\": \"R\", \"group\": 1}, {\"long\": 24.4, \"lat\": 54.4, \"survivors\": 4000, \"direction\": \"R\", \"group\": 1}, {\"long\": 24.2, \"lat\": 54.4, \"survivors\": 4000, \"direction\": \"R\", \"group\": 1}, {\"long\": 24.1, \"lat\": 54.4, \"survivors\": 4000, \"direction\": \"R\", \"group\": 1}, {\"long\": 24.0, \"lat\": 55.1, \"survivors\": 60000, \"direction\": \"A\", \"group\": 2}, {\"long\": 24.5, \"lat\": 55.2, \"survivors\": 60000, \"direction\": \"A\", \"group\": 2}, {\"long\": 25.5, \"lat\": 54.7, \"survivors\": 60000, \"direction\": \"A\", \"group\": 2}, {\"long\": 26.6, \"lat\": 55.7, \"survivors\": 40000, \"direction\": \"A\", \"group\": 2}, {\"long\": 27.4, \"lat\": 55.6, \"survivors\": 33000, \"direction\": \"A\", \"group\": 2}, {\"long\": 28.7, \"lat\": 55.5, \"survivors\": 33000, \"direction\": \"A\", \"group\": 2}, {\"long\": 28.7, \"lat\": 55.5, \"survivors\": 33000, \"direction\": \"R\", \"group\": 2}, {\"long\": 29.2, \"lat\": 54.2, \"survivors\": 30000, \"direction\": \"R\", \"group\": 2}, {\"long\": 28.5, \"lat\": 54.1, \"survivors\": 30000, \"direction\": \"R\", \"group\": 2}, {\"long\": 28.3, \"lat\": 54.2, \"survivors\": 28000, \"direction\": \"R\", \"group\": 2}, {\"long\": 24.0, \"lat\": 55.2, \"survivors\": 22000, \"direction\": \"A\", \"group\": 3}, {\"long\": 24.5, \"lat\": 55.3, \"survivors\": 22000, \"direction\": \"A\", \"group\": 3}, {\"long\": 24.6, \"lat\": 55.8, \"survivors\": 6000, \"direction\": \"A\", \"group\": 3}, {\"long\": 24.6, \"lat\": 55.8, \"survivors\": 6000, \"direction\": \"R\", \"group\": 3}, {\"long\": 24.2, \"lat\": 54.4, \"survivors\": 6000, \"direction\": \"R\", \"group\": 3}, {\"long\": 24.1, \"lat\": 54.4, \"survivors\": 6000, \"direction\": \"R\", \"group\": 3}], \"data-b40ad95d03717c8464b78bdbccd6fbb8\": [{\"long\": 24.0, \"lat\": 55.0, \"city\": \"Kowno\"}, {\"long\": 25.3, \"lat\": 54.7, \"city\": \"Wilna\"}, {\"long\": 26.4, \"lat\": 54.4, \"city\": \"Smorgoni\"}, {\"long\": 26.8, \"lat\": 54.3, \"city\": \"Moiodexno\"}, {\"long\": 27.7, \"lat\": 55.2, \"city\": \"Gloubokoe\"}, {\"long\": 27.6, \"lat\": 53.9, \"city\": \"Minsk\"}, {\"long\": 28.5, \"lat\": 54.3, \"city\": \"Studienska\"}, {\"long\": 28.7, \"lat\": 55.5, \"city\": \"Polotzk\"}, {\"long\": 29.2, \"lat\": 54.4, \"city\": \"Bobr\"}, {\"long\": 30.2, \"lat\": 55.3, \"city\": \"Witebsk\"}, {\"long\": 30.4, \"lat\": 54.5, \"city\": \"Orscha\"}, {\"long\": 30.4, \"lat\": 53.9, \"city\": \"Mohilow\"}, {\"long\": 32.0, \"lat\": 54.8, \"city\": \"Smolensk\"}, {\"long\": 33.2, \"lat\": 54.9, \"city\": \"Dorogobouge\"}, {\"long\": 34.3, \"lat\": 55.2, \"city\": \"Wixma\"}, {\"long\": 34.4, \"lat\": 55.5, \"city\": \"Chjat\"}, {\"long\": 36.0, \"lat\": 55.5, \"city\": \"Mojaisk\"}, {\"long\": 37.6, \"lat\": 55.8, \"city\": \"Moscou\"}, {\"long\": 36.6, \"lat\": 55.3, \"city\": \"Tarantino\"}, {\"long\": 36.5, \"lat\": 55.0, \"city\": \"Malo-Jarosewii\"}], \"data-596e2e62bb4db06076a52901461208bc\": [{\"long\": 37.6, \"temp\": 0, \"days\": 6, \"date\": \"Oct18\", \"label\": \"0\\u00b0 Oct18\"}, {\"long\": 36.0, \"temp\": 0, \"days\": 6, \"date\": \"Oct24\", \"label\": \"0\\u00b0 Oct24\"}, {\"long\": 33.2, \"temp\": -9, \"days\": 16, \"date\": \"Nov09\", \"label\": \"-9\\u00b0 Nov09\"}, {\"long\": 32.0, \"temp\": -21, \"days\": 5, \"date\": \"Nov14\", \"label\": \"-21\\u00b0 Nov14\"}, {\"long\": 29.2, \"temp\": -11, \"days\": 10, \"date\": null, \"label\": null}, {\"long\": 28.5, \"temp\": -20, \"days\": 4, \"date\": \"Nov28\", \"label\": \"-20\\u00b0 Nov28\"}, {\"long\": 27.2, \"temp\": -24, \"days\": 3, \"date\": \"Dec01\", \"label\": \"-24\\u00b0 Dec01\"}, {\"long\": 26.7, \"temp\": -30, \"days\": 5, \"date\": \"Dec06\", \"label\": \"-30\\u00b0 Dec06\"}, {\"long\": 25.3, \"temp\": -26, \"days\": 1, \"date\": \"Dec07\", \"label\": \"-26\\u00b0 Dec07\"}]}}, {\"mode\": \"vega-lite\"});\n",
       "</script>"
      ],
      "text/plain": [
       "alt.VConcatChart(...)"
      ]
     },
     "execution_count": 9,
     "metadata": {},
     "output_type": "execute_result"
    }
   ],
   "source": [
    "# layer the components\n",
    "\n",
    "temperature_chart = temperatures_chart.properties(height=100)\n",
    "\n",
    "map_chart = troops_chart + cities_chart + troops_text_chart\n",
    "\n",
    "final_chart = alt.vconcat(map_chart, temperature_chart).configure_view(\n",
    "    width=900,\n",
    "    height=400,\n",
    "    strokeWidth=0\n",
    ").configure_axis(\n",
    "    grid=False,\n",
    "    labelFont=\"Cardo\",\n",
    "    titleFont=\"Cardo\"\n",
    ")\n",
    "\n",
    "final_chart"
   ]
  }
 ],
 "metadata": {
  "colab": {
   "provenance": []
  },
  "kernelspec": {
   "display_name": "Python 3 (ipykernel)",
   "language": "python",
   "name": "python3"
  },
  "language_info": {
   "codemirror_mode": {
    "name": "ipython",
    "version": 3
   },
   "file_extension": ".py",
   "mimetype": "text/x-python",
   "name": "python",
   "nbconvert_exporter": "python",
   "pygments_lexer": "ipython3",
   "version": "3.10.6"
  }
 },
 "nbformat": 4,
 "nbformat_minor": 4
}
